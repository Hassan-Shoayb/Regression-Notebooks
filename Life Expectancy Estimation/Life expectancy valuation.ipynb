{
 "cells": [
  {
   "cell_type": "code",
   "execution_count": null,
   "id": "b92135bb",
   "metadata": {},
   "outputs": [],
   "source": [
    "# Linear Model \n",
    "from sklearn.linear_model import LinearRegression\n",
    "from sklearn.metrics import mean_squared_error\n",
    "from sklearn.model_selection import train_test_split\n",
    "\n",
    "# Data analysis\n",
    "import numpy as np\n",
    "import pandas as pd\n",
    "from pandas import DataFrame"
   ]
  },
  {
   "cell_type": "code",
   "execution_count": null,
   "id": "a4f8e541",
   "metadata": {},
   "outputs": [],
   "source": [
    "# Gather Data\n",
    "life_data = pd.read_csv(\"Life Data.csv\")\n",
    "target = np.log(life_data.LIFE_EXP)\n",
    "features = life_data.drop([\"LIFE_EXP\",\"HEPT-B\", \"BMI\", \"POLIO\", \"POPLN\", \"THIN_1_19\", \"SCH\"], axis=1)"
   ]
  },
  {
   "cell_type": "code",
   "execution_count": null,
   "id": "47aecd4a",
   "metadata": {},
   "outputs": [],
   "source": [
    "YEAR = 0\n",
    "ADLT_MOR = 1\n",
    "AIDS = 5\n",
    "\n",
    "life_stats = np.ndarray(shape=(1, 8))\n",
    "life_stats = features.mean().values.reshape(1, 8)"
   ]
  },
  {
   "cell_type": "code",
   "execution_count": null,
   "id": "f8b25872",
   "metadata": {},
   "outputs": [],
   "source": [
    "# Running Regression\n",
    "regr = LinearRegression()\n",
    "regr.fit(features, target)\n",
    "\n",
    "# Calculatin  the MSE and RMSE\n",
    "MSE = mean_squared_error(target, regr.predict(features))\n",
    "RMSE = np.sqrt(mean_squared_error(target, regr.predict(features)))\n",
    "\n",
    "print(\"MSE:\", MSE)\n",
    "print(\"RMSE:\", RMSE)"
   ]
  },
  {
   "cell_type": "code",
   "execution_count": 81,
   "id": "b4c82d84",
   "metadata": {},
   "outputs": [],
   "source": [
    "def life_estimate(year, adult_mortality, aids):\n",
    "    \n",
    "    # Configure Life Expectancy\n",
    "    life_stats[0][YEAR] = year\n",
    "    life_stats[0][ADLT_MOR] = adult_mortality\n",
    "    life_stats[0][AIDS] = aids\n",
    "    \n",
    "    # Make Predictions\n",
    "    life_exp = regr.predict(life_stats)[0]\n",
    "    \n",
    "    # Calculating The Upper and Lower-bound of Life Estimates\n",
    "    upper_bound = life_exp + 2*RMSE\n",
    "    lower_bound = life_exp - 2*RMSE\n",
    "    \n",
    "    return np.e**life_exp, np.e**upper_bound, np.e**lower_bound"
   ]
  },
  {
   "cell_type": "code",
   "execution_count": 83,
   "id": "3c892bbf",
   "metadata": {},
   "outputs": [],
   "source": [
    "def life_expectancy(year, adult_mortality, percent_aids):\n",
    "    '''\n",
    "        Estimate Life Expectancy \n",
    "        \n",
    "        KEYWORD ARGUMESNT\n",
    "        Year -- Year at which you will find the Life Expectancy.\n",
    "        adult_mortality -- Number of Adult deaths at that period of year.\n",
    "        percent_aids -- Percentage of people Infected by HIV/AIDS at that period of year.\n",
    "        \n",
    "        \n",
    "    '''\n",
    "    \n",
    "    if percent_aids > 100:\n",
    "        print('Aids Percentage Execeeded !')\n",
    "        return \n",
    "    \n",
    "    life_exp, higher_exp, lower_exp = life_estimate(year, adult_mortality, percent_aids)\n",
    "    \n",
    "    print(f\"Life Expectancy: {round(life_exp)} Years\")\n",
    "    print(f\"Higher Level Expectancy: {round(higher_exp)} Years\")\n",
    "    print(f\"Lower Level Expectancy: {round(lower_exp)} Years\")    "
   ]
  },
  {
   "cell_type": "code",
   "execution_count": 87,
   "id": "3eea4f50",
   "metadata": {},
   "outputs": [
    {
     "name": "stdout",
     "output_type": "stream",
     "text": [
      "Life Expectancy: 57 Years\n",
      "Higher Level Expectancy: 62 Years\n",
      "Lower Level Expectancy: 52 Years\n"
     ]
    }
   ],
   "source": [
    "life_expectancy(2021, 100, 30)"
   ]
  }
 ],
 "metadata": {
  "kernelspec": {
   "display_name": "Python 3",
   "language": "python",
   "name": "python3"
  },
  "language_info": {
   "codemirror_mode": {
    "name": "ipython",
    "version": 3
   },
   "file_extension": ".py",
   "mimetype": "text/x-python",
   "name": "python",
   "nbconvert_exporter": "python",
   "pygments_lexer": "ipython3",
   "version": "3.9.4"
  }
 },
 "nbformat": 4,
 "nbformat_minor": 5
}
